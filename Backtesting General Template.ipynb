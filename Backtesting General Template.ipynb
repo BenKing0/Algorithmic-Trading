{
 "cells": [
  {
   "cell_type": "code",
   "execution_count": 85,
   "metadata": {
    "jupyter": {
     "source_hidden": true
    }
   },
   "outputs": [],
   "source": [
    "### Not being used not we have switched from backtesting to backtester, as backtester has built in feed from yfinance (yf)\n",
    "\n",
    "from yahooquery import Ticker\n",
    "from datetime import datetime\n",
    "import pandas as pd\n",
    "from IPython.display import display\n",
    "\n",
    "symbols = ['fb', 'amzn', 'aapl', 'nflx', 'goog']\n",
    "faang = Ticker(symbols)\n",
    "data = []\n",
    "_history = faang.history(period='ytd', interval='1d', end=datetime.today())\n",
    "\n",
    "for symbol in symbols:\n",
    "    history = _history.loc[str(symbol)][['open','high','low','close','volume']].reset_index().rename(columns={'index':'Date','open':'Open','high':'High','low':'Low','close':'Close','volume':'Volume'})\n",
    "    history['date'] = (history['date'])\n",
    "    data.append(history)"
   ]
  },
  {
   "cell_type": "code",
   "execution_count": 106,
   "metadata": {
    "jupyter": {
     "source_hidden": true
    }
   },
   "outputs": [],
   "source": [
    "### Now set as seperate file 'strategies.py'\n",
    "\n",
    "import backtrader as bt\n",
    "\n",
    "class PrintClose(bt.Strategy):\n",
    "\n",
    "    def __init__(self):\n",
    "        #Keep a reference to the \"close\" line in the data[0] dataseries\n",
    "        self.dataclose = self.datas[0].close\n",
    "\n",
    "    def log(self, txt, dt=None):\n",
    "        dt = dt \n",
    "        date = self.datas[0].datetime.date(0)\n",
    "        print(f'date: {date}, {txt} {dt}') #Print date and close\n",
    "\n",
    "    def next(self):\n",
    "        self.log('Close: ', self.dataclose[0])"
   ]
  },
  {
   "cell_type": "code",
   "execution_count": 1,
   "metadata": {},
   "outputs": [
    {
     "name": "stdout",
     "output_type": "stream",
     "text": [
      "[*********************100%***********************]  1 of 1 completed\n",
      "2021-02-09, SELL CREATE 849.460022 None\n",
      "2021-02-10, SELL EXECUTED, 843.64 None\n",
      "2021-02-18, CLOSE CREATE 787.380005 None\n",
      "2021-02-19, BUY EXECUTED, 795.00 None\n",
      "2021-03-22, BUY CREATE 670.000000 None\n",
      "2021-03-23, BUY EXECUTED, 675.77 None\n",
      "2021-03-30, CLOSE CREATE 635.619995 None\n",
      "2021-03-31, SELL EXECUTED, 646.62 None\n",
      "2021-04-12, BUY CREATE 701.979980 None\n",
      "2021-04-13, BUY EXECUTED, 712.70 None\n",
      "2021-04-20, CLOSE CREATE 718.989990 None\n",
      "2021-04-21, SELL EXECUTED, 704.77 None\n",
      "2021-05-04, SELL CREATE 673.599976 None\n",
      "2021-05-05, SELL EXECUTED, 681.06 None\n",
      "2021-05-12, CLOSE CREATE 589.890015 None\n",
      "2021-05-13, BUY EXECUTED, 601.54 None\n",
      "2021-06-03, BUY CREATE 572.840027 None\n",
      "2021-06-04, BUY EXECUTED, 579.71 None\n",
      "2021-06-11, CLOSE CREATE 609.890015 None\n",
      "2021-06-14, SELL EXECUTED, 612.23 None\n",
      "2021-06-16, SELL CREATE 604.869995 None\n",
      "2021-06-17, SELL EXECUTED, 601.89 None\n",
      "2021-06-24, CLOSE CREATE 679.820007 None\n",
      "2021-06-25, BUY EXECUTED, 689.58 None\n",
      "2021-07-16, SELL CREATE 644.219971 None\n",
      "2021-07-19, SELL EXECUTED, 629.89 None\n",
      "2021-07-26, CLOSE CREATE 657.619995 None\n",
      "2021-07-27, BUY EXECUTED, 663.40 None\n",
      "2021-08-02, BUY CREATE 709.669983 None\n",
      "2021-08-03, BUY EXECUTED, 719.00 None\n",
      "2021-08-10, CLOSE CREATE 709.989990 None\n",
      "2021-08-11, SELL EXECUTED, 712.71 None\n",
      "2021-08-24, SELL CREATE 708.489990 None\n",
      "2021-08-25, SELL EXECUTED, 707.03 None\n",
      "2021-09-01, CLOSE CREATE 734.090027 None\n",
      "2021-09-02, BUY EXECUTED, 734.50 None\n",
      "Starting Portfolio Value: 10000.000000\n",
      "Final Portfolio Value: 9905.920044\n",
      "PnL: -94.08\n"
     ]
    }
   ],
   "source": [
    "import yfinance as yf\n",
    "import pandas as pd\n",
    "from IPython.display import display\n",
    "from strategies import *\n",
    "from datetime import date, datetime\n",
    "\n",
    "symbols = ['tsla']#['fb', 'amzn', 'aapl', 'nflx', 'goog']\n",
    "\n",
    "for i, symbol in enumerate(symbols):\n",
    "    \n",
    "    data = bt.feeds.PandasData(dataname=yf.download(symbol, date(date.today().year, 1, 1), datetime.today()))\n",
    "    \n",
    "    #Instantiate Cerebro engine\n",
    "    cerebro = bt.Cerebro()\n",
    "\n",
    "    #Add data feed to Cerebro\n",
    "    cerebro.adddata(data)\n",
    "\n",
    "    # Add strategy to Cerebro\n",
    "    cerebro.addstrategy(MAcrossover)\n",
    "\n",
    "    # Default position size - 3 shares\n",
    "    cerebro.addsizer(bt.sizers.SizerFix, stake=3)\n",
    "\n",
    "    if __name__ == '__main__':\n",
    "        # Run Cerebro Engine - pull portfolio value before running for staring funds\n",
    "        start_portfolio_value = cerebro.broker.getvalue()\n",
    "\n",
    "        cerebro.run()\n",
    "        \n",
    "        #pull portfolio value after running for ending funds\n",
    "        end_portfolio_value = cerebro.broker.getvalue()\n",
    "        pnl = end_portfolio_value - start_portfolio_value\n",
    "        print(f'Starting Portfolio Value: {start_portfolio_value:2f}')\n",
    "        print(f'Final Portfolio Value: {end_portfolio_value:2f}')\n",
    "        print(f'PnL: {pnl:.2f}')"
   ]
  },
  {
   "cell_type": "code",
   "execution_count": null,
   "metadata": {},
   "outputs": [],
   "source": []
  }
 ],
 "metadata": {
  "kernelspec": {
   "display_name": "Python 3",
   "language": "python",
   "name": "python3"
  },
  "language_info": {
   "codemirror_mode": {
    "name": "ipython",
    "version": 3
   },
   "file_extension": ".py",
   "mimetype": "text/x-python",
   "name": "python",
   "nbconvert_exporter": "python",
   "pygments_lexer": "ipython3",
   "version": "3.8.3"
  }
 },
 "nbformat": 4,
 "nbformat_minor": 4
}
